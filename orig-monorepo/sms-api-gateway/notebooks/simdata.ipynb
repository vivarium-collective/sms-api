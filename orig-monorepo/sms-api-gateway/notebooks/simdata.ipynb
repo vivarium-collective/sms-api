{
 "cells": [
  {
   "cell_type": "code",
   "execution_count": 1,
   "id": "f7eac3fc-e892-4535-a13d-c325820fce1c",
   "metadata": {},
   "outputs": [],
   "source": [
    "from resolve import resolve\n",
    "resolve()"
   ]
  },
  {
   "cell_type": "code",
   "execution_count": 1,
   "id": "0ef7dadc-2409-4447-815e-a2dd7961e31b",
   "metadata": {},
   "outputs": [],
   "source": [
    "from ecoli.experiments.ecoli_master_sim import EcoliSim\n",
    "import numpy as npy\n",
    "import os\n",
    "import json \n",
    "import sys \n",
    "import copy\n",
    "\n",
    "\n",
    "DEFAULT_ECOLISIM_CONFIG_PATH = \"../resources/config/default.json\"\n",
    "DEFAULT_DURATION = 1111\n",
    "DEFAULT_INTERVAL = 1.0\n",
    "\n",
    "\n",
    "def compile_simulation(\n",
    "    config_fp: str | None = None, \n",
    "    experiment_id: str | None = None,\n",
    "    duration: float | None = None, \n",
    "    time_step: float | None = None,\n",
    "    framesize: float | None = None,\n",
    "    datadir: str | None = None,\n",
    "    build: bool = True\n",
    "):\n",
    "    # load config file TODO: replace with pbg doc!\n",
    "    composite_config_fp = config_fp or DEFAULT_ECOLISIM_CONFIG_PATH\n",
    "    with open(composite_config_fp, 'r') as f:\n",
    "        config = copy.deepcopy(json.load(f))\n",
    "    if experiment_id is not None:\n",
    "        config['experiment_id'] = experiment_id\n",
    "\n",
    "    # override save dir\n",
    "    if datadir is not None:\n",
    "        if not os.path.exists(datadir):\n",
    "            os.makedirs(datadir, exist_ok=True)\n",
    "            \n",
    "        config['daughter_outdir'] = datadir\n",
    "\n",
    "    # configure times and savetimes\n",
    "    dur = duration or config.get('total_time', DEFAULT_DURATION)\n",
    "    timestep = time_step or config.get('time_step', DEFAULT_INTERVAL)\n",
    "    t = npy.arange(1, dur, framesize or timestep)\n",
    "    # config['total_time'] = dur\n",
    "    # config['time_step'] = timestep\n",
    "    # config['save_times'] = t.tolist()\n",
    "    # config['save'] = True\n",
    "    \n",
    "    sim = EcoliSim(config)\n",
    "    if build:\n",
    "        sim.build_ecoli()\n",
    "    return sim\n",
    "\n",
    "\n",
    "def dispatch_simulation(sim: EcoliSim):\n",
    "    return sim.run()\n",
    "\n",
    "\n",
    "sim = compile_simulation()"
   ]
  },
  {
   "cell_type": "code",
   "execution_count": 2,
   "id": "ed25dcd9-f0e6-4d8f-8814-76b7d27929f4",
   "metadata": {},
   "outputs": [],
   "source": [
    "# sim.emitter_arg['out_dir'] = \"data\"\n",
    "# sim.emitter = \"parquet\""
   ]
  },
  {
   "cell_type": "code",
   "execution_count": 3,
   "id": "c2617999-bba4-4964-81e6-a654e187467f",
   "metadata": {},
   "outputs": [],
   "source": [
    "sim.build_ecoli()"
   ]
  },
  {
   "cell_type": "code",
   "execution_count": 4,
   "id": "ca63cc4a-557f-49bc-aa80-2fdf8aee9f0b",
   "metadata": {},
   "outputs": [],
   "source": [
    "dur = 3.0\n",
    "step = 1.0\n",
    "start = 0.0\n",
    "t = npy.arange(start, dur, step)"
   ]
  },
  {
   "cell_type": "code",
   "execution_count": 5,
   "id": "a44acabe-6366-469f-b8a7-138d4d0fa110",
   "metadata": {},
   "outputs": [],
   "source": [
    "sim.save_times = t.tolist()"
   ]
  },
  {
   "cell_type": "code",
   "execution_count": 6,
   "id": "9164edff-a8df-44dc-8c37-a36ae76fdce1",
   "metadata": {},
   "outputs": [],
   "source": [
    "sim.initial_global_time = t[0]"
   ]
  },
  {
   "cell_type": "code",
   "execution_count": 7,
   "id": "9282b33b-0b0f-4b92-a368-f2fc4bd49968",
   "metadata": {},
   "outputs": [
    {
     "name": "stdout",
     "output_type": "stream",
     "text": [
      "\n",
      "Simulation ID: ae295e2c-4011-11f0-9156-9766854a6364\n",
      "Created: 06/02/2025 at 20:28:33\n"
     ]
    }
   ],
   "source": [
    "sim.run()"
   ]
  },
  {
   "cell_type": "code",
   "execution_count": null,
   "id": "98709312-a49e-4628-85af-f8c72caf55fe",
   "metadata": {},
   "outputs": [],
   "source": []
  }
 ],
 "metadata": {
  "kernelspec": {
   "display_name": "sms-gateway",
   "language": "python",
   "name": "sms-gateway"
  },
  "language_info": {
   "codemirror_mode": {
    "name": "ipython",
    "version": 3
   },
   "file_extension": ".py",
   "mimetype": "text/x-python",
   "name": "python",
   "nbconvert_exporter": "python",
   "pygments_lexer": "ipython3",
   "version": "3.12.9"
  }
 },
 "nbformat": 4,
 "nbformat_minor": 5
}

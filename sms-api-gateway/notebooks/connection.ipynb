{
 "cells": [
  {
   "cell_type": "code",
   "execution_count": null,
   "id": "3e2a470b-f5c2-4d76-ab7d-d64ae52986c0",
   "metadata": {},
   "outputs": [],
   "source": [
    "import asyncio\n",
    "import websockets\n",
    "import typing as ty\n",
    "\n",
    "\n",
    "async def subscribe(socket_uri: str, on_message: ty.Callable):\n",
    "    \"\"\"\n",
    "    Connects to a websocket server at `uri` and calls `on_message(data)`\n",
    "    for every received message.\n",
    "    \"\"\"\n",
    "    async with websockets.connect(socket_uri) as websocket:\n",
    "        async for message in websocket:\n",
    "            await on_message(message)\n",
    "\n",
    "async def transform_and_publish(websocket, data: str):\n",
    "    \"\"\"\n",
    "    Transforms the incoming `data` (str), and sends it back via `websocket`.\n",
    "    \"\"\"\n",
    "    # Example transformation: reverse the string\n",
    "    print(\"transform here\")\n",
    "    transformed_data = data[::-1]\n",
    "    \n",
    "    await websocket.send(transformed_data)\n",
    "    \n",
    "\n",
    "async def socket_client(uri=\"ws://localhost:8765\"):\n",
    "    async def handle_message(data):\n",
    "        print(f\"Received: {data}\")\n",
    "        await transform_and_publish(websocket, data)\n",
    "\n",
    "    # Connect once so we can reuse the websocket\n",
    "    async with websockets.connect(uri) as websocket:\n",
    "        async for message in websocket:\n",
    "            await handle_message(message)\n",
    "\n",
    "\n",
    "async def socket_server(port: 8765):\n",
    "    import asyncio\n",
    "    import websockets\n",
    "    \n",
    "    async def echo(websocket):\n",
    "        async for message in websocket:\n",
    "            print(f\"Server received: {message}\")\n",
    "            await websocket.send(message)\n",
    "            \n",
    "    async with websockets.serve(echo, \"localhost\", port):\n",
    "        await asyncio.Future()  # run forever\n",
    "\n",
    "\n"
   ]
  }
 ],
 "metadata": {
  "kernelspec": {
   "display_name": "sms-gateway",
   "language": "python",
   "name": "sms-gateway"
  },
  "language_info": {
   "codemirror_mode": {
    "name": "ipython",
    "version": 3
   },
   "file_extension": ".py",
   "mimetype": "text/x-python",
   "name": "python",
   "nbconvert_exporter": "python",
   "pygments_lexer": "ipython3",
   "version": "3.12.9"
  }
 },
 "nbformat": 4,
 "nbformat_minor": 5
}

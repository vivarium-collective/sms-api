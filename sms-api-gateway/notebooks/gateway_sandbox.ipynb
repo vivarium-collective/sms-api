{
 "cells": [
  {
   "cell_type": "code",
   "execution_count": 1,
   "id": "34a83e30-a2ab-401b-864d-3e45b75ece42",
   "metadata": {},
   "outputs": [],
   "source": [
    "from resolve import resolve \n",
    "resolve()"
   ]
  },
  {
   "cell_type": "code",
   "execution_count": null,
   "id": "3a17ff86-e113-4f8a-a3ea-17e04acd70ba",
   "metadata": {},
   "outputs": [],
   "source": [
    "import widgets\n",
    "%matplotlib inline\n",
    "widgets.start()"
   ]
  }
 ],
 "metadata": {
  "kernelspec": {
   "display_name": "sms-gateway",
   "language": "python",
   "name": "sms-gateway"
  },
  "language_info": {
   "codemirror_mode": {
    "name": "ipython",
    "version": 3
   },
   "file_extension": ".py",
   "mimetype": "text/x-python",
   "name": "python",
   "nbconvert_exporter": "python",
   "pygments_lexer": "ipython3",
   "version": "3.12.9"
  }
 },
 "nbformat": 4,
 "nbformat_minor": 5
}

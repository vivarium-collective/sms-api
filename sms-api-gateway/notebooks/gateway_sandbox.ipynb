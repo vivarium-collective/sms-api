{
 "cells": [
  {
   "cell_type": "code",
   "execution_count": 1,
   "id": "34a83e30-a2ab-401b-864d-3e45b75ece42",
   "metadata": {},
   "outputs": [],
   "source": [
    "from resolve import resolve \n",
    "resolve()"
   ]
  },
  {
   "cell_type": "code",
   "execution_count": 2,
   "id": "3a17ff86-e113-4f8a-a3ea-17e04acd70ba",
   "metadata": {},
   "outputs": [
    {
     "data": {
      "application/vnd.jupyter.widget-view+json": {
       "model_id": "fcac71bde62244a18f25efbeca31b1b1",
       "version_major": 2,
       "version_minor": 0
      },
      "text/plain": [
       "Button(description='Run', style=ButtonStyle())"
      ]
     },
     "metadata": {},
     "output_type": "display_data"
    },
    {
     "data": {
      "application/vnd.jupyter.widget-view+json": {
       "model_id": "0f527c5377da4cfa9b0e654906fc1acc",
       "version_major": 2,
       "version_minor": 0
      },
      "text/plain": [
       "Button(description='Cancel', disabled=True, style=ButtonStyle())"
      ]
     },
     "metadata": {},
     "output_type": "display_data"
    },
    {
     "data": {
      "application/vnd.jupyter.widget-view+json": {
       "model_id": "51085b1c18e146fa8cd4fd42ab7e2c3b",
       "version_major": 2,
       "version_minor": 0
      },
      "text/plain": [
       "Output()"
      ]
     },
     "metadata": {},
     "output_type": "display_data"
    },
    {
     "data": {
      "application/vnd.jupyter.widget-view+json": {
       "model_id": "df79d57d1d3e4fb8ae6b04e0f2e1a0fa",
       "version_major": 2,
       "version_minor": 0
      },
      "text/plain": [
       "Output()"
      ]
     },
     "metadata": {},
     "output_type": "display_data"
    }
   ],
   "source": [
    "import widgets\n",
    "%matplotlib inline\n",
    "widgets.start()"
   ]
  },
  {
   "cell_type": "code",
   "execution_count": 10,
   "id": "4f755625-5f82-4ce9-9586-0b1fe97ceffe",
   "metadata": {},
   "outputs": [
    {
     "name": "stdout",
     "output_type": "stream",
     "text": [
      "Results:\n",
      "\n"
     ]
    },
    {
     "data": {
      "application/vnd.jupyter.widget-view+json": {
       "model_id": "3875d2ab50e643d4962744014c49ddb1",
       "version_major": 2,
       "version_minor": 0
      },
      "text/plain": [
       "Running simulation:   0%|          | 0/20 [00:00<?, ?step/s]"
      ]
     },
     "metadata": {},
     "output_type": "display_data"
    },
    {
     "name": "stdout",
     "output_type": "stream",
     "text": [
      "IntervalID 1.0:\n",
      "{'x': np.float64(1.0), 'y': 1}\n",
      "\n",
      "IntervalID 2.1:\n",
      "{'x': np.float64(1.449137674618944), 'y': 1}\n",
      "\n",
      "IntervalID 3.2:\n",
      "{'x': np.float64(1.7888543819998317), 'y': 2}\n",
      "\n",
      "IntervalID 4.300000000000001:\n",
      "{'x': np.float64(2.0736441353327724), 'y': 2}\n",
      "\n",
      "IntervalID 5.4:\n",
      "{'x': np.float64(2.32379000772445), 'y': 2}\n",
      "\n",
      "IntervalID 6.5:\n",
      "{'x': np.float64(2.5495097567963922), 'y': 6}\n",
      "\n",
      "IntervalID 7.6000000000000005:\n",
      "{'x': np.float64(2.7568097504180447), 'y': 6}\n",
      "\n",
      "IntervalID 8.700000000000001:\n",
      "{'x': np.float64(2.9495762407505253), 'y': 6}\n",
      "\n",
      "IntervalID 9.8:\n",
      "{'x': np.float64(3.1304951684997055), 'y': 6}\n",
      "\n",
      "IntervalID 10.9:\n",
      "{'x': np.float64(3.3015148038438356), 'y': 6}\n",
      "\n",
      "IntervalID 12.0:\n",
      "{'x': np.float64(3.4641016151377544), 'y': 6}\n",
      "\n",
      "IntervalID 13.100000000000001:\n",
      "{'x': np.float64(3.6193922141707717), 'y': 24}\n",
      "\n",
      "IntervalID 14.200000000000001:\n",
      "{'x': np.float64(3.7682887362833544), 'y': 24}\n",
      "\n",
      "IntervalID 15.3:\n",
      "{'x': np.float64(3.9115214431215892), 'y': 24}\n",
      "\n",
      "IntervalID 16.400000000000002:\n",
      "{'x': np.float64(4.049691346263318), 'y': 24}\n",
      "\n",
      "IntervalID 17.5:\n",
      "{'x': np.float64(4.183300132670378), 'y': 24}\n",
      "\n",
      "IntervalID 18.6:\n",
      "{'x': np.float64(4.312771730569565), 'y': 24}\n",
      "\n",
      "IntervalID 19.700000000000003:\n",
      "{'x': np.float64(4.43846820423443), 'y': 24}\n",
      "\n",
      "IntervalID 20.8:\n",
      "{'x': np.float64(4.560701700396552), 'y': 120}\n",
      "\n",
      "IntervalID 21.900000000000002:\n",
      "{'x': np.float64(4.679743582719036), 'y': 120}\n",
      "\n",
      "Done\n"
     ]
    }
   ],
   "source": [
    "\n",
    "        "
   ]
  }
 ],
 "metadata": {
  "kernelspec": {
   "display_name": "sms-gateway",
   "language": "python",
   "name": "sms-gateway"
  },
  "language_info": {
   "codemirror_mode": {
    "name": "ipython",
    "version": 3
   },
   "file_extension": ".py",
   "mimetype": "text/x-python",
   "name": "python",
   "nbconvert_exporter": "python",
   "pygments_lexer": "ipython3",
   "version": "3.12.9"
  }
 },
 "nbformat": 4,
 "nbformat_minor": 5
}
